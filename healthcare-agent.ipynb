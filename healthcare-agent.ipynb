{
 "cells": [
  {
   "cell_type": "code",
   "execution_count": 1,
   "id": "6b69698f",
   "metadata": {},
   "outputs": [
    {
     "name": "stdout",
     "output_type": "stream",
     "text": [
      "Note: you may need to restart the kernel to use updated packages.\n"
     ]
    },
    {
     "name": "stderr",
     "output_type": "stream",
     "text": [
      "\n",
      "[notice] A new release of pip is available: 24.0 -> 25.0.1\n",
      "[notice] To update, run: python.exe -m pip install --upgrade pip\n"
     ]
    }
   ],
   "source": [
    "%pip install --upgrade --quiet langchain-nvidia-ai-endpoints langchain-community neo4j langchain-core"
   ]
  },
  {
   "cell_type": "code",
   "execution_count": 2,
   "id": "1378f399",
   "metadata": {},
   "outputs": [
    {
     "name": "stderr",
     "output_type": "stream",
     "text": [
      "C:\\Users\\Harshit\\AppData\\Roaming\\Python\\Python312\\site-packages\\IPython\\core\\interactiveshell.py:3667: LangChainDeprecationWarning: As of langchain-core 0.3.0, LangChain uses pydantic v2 internally. The langchain.pydantic_v1 module was a compatibility shim for pydantic v1, and should no longer be used. Please update the code to import from Pydantic directly.\n",
      "\n",
      "For example, replace imports like: `from langchain.pydantic_v1 import BaseModel`\n",
      "with: `from pydantic import BaseModel`\n",
      "or the v1 compatibility namespace if you are working in a code base that has not been fully upgraded to pydantic 2 yet. \tfrom pydantic.v1 import BaseModel\n",
      "\n",
      "  exec(code_obj, self.user_global_ns, self.user_ns)\n"
     ]
    }
   ],
   "source": [
    "import os\n",
    "from typing import Any, Dict, List, Optional, Tuple, Type\n",
    "\n",
    "from langchain_community.graphs import Neo4jGraph\n",
    "from langchain_community.vectorstores.neo4j_vector import remove_lucene_chars\n",
    "from langchain_core.tools import tool\n",
    "from langchain_nvidia_ai_endpoints import ChatNVIDIA\n",
    "\n",
    "from langchain.agents import AgentExecutor\n",
    "from langchain.agents.format_scratchpad import \\\n",
    "    format_to_openai_function_messages\n",
    "from langchain.agents.output_parsers.openai_tools import \\\n",
    "    OpenAIToolsAgentOutputParser\n",
    "from langchain.callbacks.manager import (AsyncCallbackManagerForToolRun,\n",
    "                                         CallbackManagerForToolRun)\n",
    "from langchain.prompts import ChatPromptTemplate, MessagesPlaceholder\n",
    "from langchain.pydantic_v1 import BaseModel, Field\n",
    "from langchain.schema import AIMessage, HumanMessage\n",
    "from langchain.tools import BaseTool\n",
    "from langchain.tools.render import format_tool_to_openai_function\n",
    "from langchain_community.graphs import Neo4jGraph"
   ]
  },
  {
   "cell_type": "code",
   "execution_count": null,
   "id": "9bd8e9f4",
   "metadata": {},
   "outputs": [
    {
     "name": "stdout",
     "output_type": "stream",
     "text": [
      "Collecting neo4j-driver\n",
      "  Downloading neo4j_driver-5.28.1-py3-none-any.whl.metadata (6.1 kB)\n",
      "Requirement already satisfied: pytz in c:\\users\\harshit\\appdata\\local\\programs\\python\\python312\\lib\\site-packages (from neo4j-driver) (2024.1)\n",
      "Downloading neo4j_driver-5.28.1-py3-none-any.whl (312 kB)\n",
      "   ---------------------------------------- 0.0/312.5 kB ? eta -:--:--\n",
      "   ---------------------------------------- 0.0/312.5 kB ? eta -:--:--\n",
      "   - -------------------------------------- 10.2/312.5 kB ? eta -:--:--\n",
      "   --- ----------------------------------- 30.7/312.5 kB 325.1 kB/s eta 0:00:01\n",
      "   ------- ------------------------------- 61.4/312.5 kB 465.5 kB/s eta 0:00:01\n",
      "   --------------------------- ------------ 215.0/312.5 kB 1.5 MB/s eta 0:00:01\n",
      "   ---------------------------------------- 312.5/312.5 kB 1.8 MB/s eta 0:00:00\n",
      "Installing collected packages: neo4j-driver\n",
      "Successfully installed neo4j-driver-5.28.1\n",
      "Note: you may need to restart the kernel to use updated packages.\n"
     ]
    },
    {
     "name": "stderr",
     "output_type": "stream",
     "text": [
      "\n",
      "[notice] A new release of pip is available: 24.0 -> 25.0.1\n",
      "[notice] To update, run: python.exe -m pip install --upgrade pip\n"
     ]
    }
   ],
   "source": [
    "%pip install neo4j-driver"
   ]
  },
  {
   "cell_type": "code",
   "execution_count": 13,
   "id": "e1e7e271",
   "metadata": {},
   "outputs": [
    {
     "name": "stdout",
     "output_type": "stream",
     "text": [
      "Connection successful\n",
      "Driver connection working\n"
     ]
    }
   ],
   "source": [
    "# Update cell 4 with this code\n",
    "# Update your database connection information\n",
    "os.environ[\"NEO4J_URI\"] = \"bolt://44.222.250.42:7687\"\n",
    "os.environ[\"NEO4J_USERNAME\"] = \"neo4j\"\n",
    "os.environ[\"NEO4J_PASSWORD\"] = \"schedule-pop-changes\"\n",
    "\n",
    "# Initialize Neo4jGraph with connection parameters\n",
    "graph = Neo4jGraph(\n",
    "    url=os.environ[\"NEO4J_URI\"],\n",
    "    username=os.environ[\"NEO4J_USERNAME\"], \n",
    "    password=os.environ[\"NEO4J_PASSWORD\"],\n",
    "    database=\"neo4j\",  # Default database name\n",
    "    refresh_schema=False\n",
    ")\n",
    "\n",
    "# You can also use the driver directly if needed\n",
    "from neo4j import GraphDatabase, basic_auth\n",
    "driver = GraphDatabase.driver(\n",
    "    os.environ[\"NEO4J_URI\"],\n",
    "    auth=basic_auth(os.environ[\"NEO4J_USERNAME\"], os.environ[\"NEO4J_PASSWORD\"])\n",
    ")\n",
    "\n",
    "# Test the connection with a simple query\n",
    "try:\n",
    "    with driver.session(database=\"neo4j\") as session:\n",
    "        result = session.run(\"RETURN 'Connection successful' AS message\").single()\n",
    "        print(result[\"message\"])\n",
    "        print(\"Driver connection working\")\n",
    "except Exception as e:\n",
    "    print(f\"Driver connection error: {str(e)}\")\n",
    "\n",
    "# Don't forget to close the driver when you're done\n",
    "# driver.close()"
   ]
  },
  {
   "cell_type": "code",
   "execution_count": 32,
   "id": "0f254217",
   "metadata": {},
   "outputs": [],
   "source": [
    "os.environ[\"NVIDIA_API_KEY\"] = \"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\"\n",
    "llm = ChatNVIDIA(model=\"meta/llama-3.1-70b-instruct\")"
   ]
  },
  {
   "cell_type": "code",
   "execution_count": 34,
   "id": "9eae5812",
   "metadata": {},
   "outputs": [
    {
     "name": "stdout",
     "output_type": "stream",
     "text": [
      "Using Large Language Models (LLMs) in combination with Graph Databases can unlock powerful insights and create innovative applications. Here's a concise overview of how to combine them:\n",
      "\n",
      "**Benefits:**\n",
      "\n",
      "1. **Entity Disambiguation**: LLMs can help resolve entity ambiguity in graph databases.\n",
      "2. **Node and Edge Labeling**: LLMs can automatically generate labels for nodes and edges.\n",
      "3. **Query Augmentation**: LLMs can enhance query performance by predicting relationships.\n",
      "4. **Graph Embeddings**: LLMs can generate embeddings for graph data, enabling similarity search and clustering.\n",
      "\n",
      "**Architecture:**\n",
      "\n",
      "1. **Graph Database**: Store and manage graph data using a graph database like Neo4j, Amazon Neptune, or TigerGraph.\n",
      "2. **LLM Integration**: Integrate a pre-trained LLM (e.g., transformer-based models like BERT, RoBERTa, or T5) with the graph database using APIs or SDKs.\n",
      "3. **Data Preprocessing**: Preprocess graph data into a format suitable for the LLM (e.g., node/edge lists, adjacency matrices).\n",
      "4. **LLM Model**: Fine-tune the LLM on your graph data using self-supervised or supervised learning techniques.\n",
      "\n",
      "**Example Applications:**\n",
      "\n",
      "1. **Recommender Systems**: Use LLMs to generate node embeddings and recommend related entities in the graph.\n",
      "2. **Knowledge Graph Completion**: Employ LLMs to predict missing relationships and fill gaps in knowledge graphs.\n",
      "3. **Graph-based Search**: Integrate LLMs with graph databases to improve search query performance and relevance.\n",
      "\n",
      "**Key Techniques:**\n",
      "\n",
      "1. **Graph Neural Networks (GNNs)**: Use GNNs to learn node and edge representations.\n",
      "2. **Self-Supervised Learning**: Use self-supervised learning to fine-tune the LLM on graph data.\n",
      "3. **Active Learning**: Employ active learning strategies to improvise LLM performance.\n",
      "\n",
      "By combining LLMs with Graph Databases, you can unlock new capabilities and applications, such as improved search, recommendations, and knowledge graph completion.\n"
     ]
    }
   ],
   "source": [
    "result = llm.invoke(\"How to use LLMs in combination with Graph Databases? Be concise!\")\n",
    "print(result.content)"
   ]
  },
  {
   "cell_type": "code",
   "execution_count": 20,
   "id": "f4e818eb",
   "metadata": {},
   "outputs": [
    {
     "data": {
      "text/plain": [
       "[]"
      ]
     },
     "execution_count": 20,
     "metadata": {},
     "output_type": "execute_result"
    }
   ],
   "source": [
    "graph.query(\n",
    "    \"CREATE FULLTEXT INDEX drug IF NOT EXISTS FOR (d:Drug) ON EACH [d.name];\"\n",
    ")\n",
    "graph.query(\n",
    "    \"CREATE FULLTEXT INDEX manufacturer IF NOT EXISTS FOR (d:Manufacturer) ON EACH [d.manufacturerName];\"\n",
    ")"
   ]
  },
  {
   "cell_type": "code",
   "execution_count": 24,
   "id": "40ba0c44",
   "metadata": {},
   "outputs": [],
   "source": [
    "def generate_full_text_query(input: str) -> str:\n",
    "    \"\"\"\n",
    "    Generate a full-text search query for a given input string.\n",
    "\n",
    "    This function constructs a query string suitable for a full-text search.\n",
    "    It processes the input string by splitting it into words and appending a\n",
    "    similarity threshold (~2) to each word, then combines them using the AND\n",
    "    operator. Useful for mapping movies and people from user questions\n",
    "    to database values, and allows for some misspelings.\n",
    "    \"\"\"\n",
    "    full_text_query = \"\"\n",
    "    words = [el for el in remove_lucene_chars(input).split() if el]\n",
    "    for word in words[:-1]:\n",
    "        full_text_query += f\" {word}~2 AND\"\n",
    "    full_text_query += f\" {words[-1]}~2\"\n",
    "    return full_text_query.strip()\n",
    "\n",
    "\n",
    "candidate_query = \"\"\"\n",
    "CALL db.index.fulltext.queryNodes(\n",
    "$index, $query, {limit: $limit})\n",
    "YIELD node\n",
    "RETURN coalesce(node.manufacturerName, node.name) AS candidate,\n",
    "       labels(node)[0] AS label\n",
    "\"\"\"\n",
    "\n",
    "\n",
    "def get_candidates(input: str, type: str, limit: int = 3) -> List[Dict[str, str]]:\n",
    "    \"\"\"\n",
    "    Retrieve a list of candidate entities from database based on the input string.\n",
    "\n",
    "    This function queries the Neo4j database using a full-text search. It takes the\n",
    "    input string, generates a full-text query, and executes this query against the\n",
    "    specified index in the database. The function returns a list of candidates\n",
    "    matching the query, with each candidate being a dictionary containing their name\n",
    "    (or title) and label (either 'Person' or 'Movie').\n",
    "    \"\"\"\n",
    "    ft_query = generate_full_text_query(input)\n",
    "    candidates = graph.query(\n",
    "        candidate_query, {\"index\": type, \"query\": ft_query, \"limit\": limit}\n",
    "    )\n",
    "    return candidates"
   ]
  },
  {
   "cell_type": "code",
   "execution_count": 25,
   "id": "00195aa9",
   "metadata": {},
   "outputs": [
    {
     "data": {
      "text/plain": [
       "[{'candidate': 'VORICONAZOLE', 'label': 'Drug'}]"
      ]
     },
     "execution_count": 25,
     "metadata": {},
     "output_type": "execute_result"
    }
   ],
   "source": [
    "get_candidates(\"voriconazol\", \"drug\")"
   ]
  },
  {
   "cell_type": "code",
   "execution_count": 44,
   "id": "dde82bd6",
   "metadata": {},
   "outputs": [],
   "source": [
    "@tool\n",
    "def get_side_effects(\n",
    "    drug: Optional[str] = Field(\n",
    "        description=\"disease mentioned in the question. Return None if no mentioned.\",\n",
    "    ),\n",
    "    min_age: Optional[int] = Field(\n",
    "        description=\"Minimum age of the patient. Return None if no mentioned.\",\n",
    "    ),\n",
    "    max_age: Optional[int] = Field(\n",
    "        description=\"Maximum age of the patient. Return None if no mentioned.\",\n",
    "    ),\n",
    "    manufacturer: Optional[str] = Field(\n",
    "        description=\"manufacturer of the drug. Return None if no mentioned.\",\n",
    "    ),\n",
    "):\n",
    "    \"\"\"Useful for when you need to find common side effects.\"\"\"\n",
    "    params = {}\n",
    "    filters = []\n",
    "    side_effects_base_query = \"\"\"\n",
    "    MATCH (c:Case)-[:HAS_REACTION]->(r:Reaction), (c)-[:IS_PRIMARY_SUSPECT]->(d:Drug)\n",
    "    \"\"\"\n",
    "    if drug and isinstance(drug, str):\n",
    "        candidate_drugs = [el[\"candidate\"] for el in get_candidates(drug, \"drug\")]\n",
    "        if not candidate_drugs:\n",
    "            # Return empty list if drug not found\n",
    "            print(f\"Debug: Drug '{drug}' not found.\")\n",
    "            return []\n",
    "        filters.append(\"d.name IN $drugs\")\n",
    "        params[\"drugs\"] = candidate_drugs\n",
    "\n",
    "    if min_age and isinstance(min_age, int):\n",
    "        filters.append(\"c.age > $min_age \")\n",
    "        params[\"min_age\"] = min_age\n",
    "    if max_age and isinstance(max_age, int):\n",
    "        filters.append(\"c.age < $max_age \")\n",
    "        params[\"max_age\"] = max_age\n",
    "\n",
    "    if manufacturer and isinstance(manufacturer, str) and manufacturer.lower() not in ['none', 'null']: # Check for 'none' or 'null'\n",
    "        candidate_manufacturers = [\n",
    "            el[\"candidate\"] for el in get_candidates(manufacturer, \"manufacturer\")\n",
    "        ]\n",
    "        if not candidate_manufacturers:\n",
    "            # Return empty list if manufacturer not found\n",
    "            print(f\"Debug: Manufacturer '{manufacturer}' not found.\")\n",
    "            return []\n",
    "        filters.append(\n",
    "             \"EXISTS {(c)<-[:REGISTERED]-(m:Manufacturer) WHERE m.manufacturerName = $manufacturer}\"\n",
    "        )\n",
    "        params[\"manufacturer\"] = candidate_manufacturers[0]\n",
    "\n",
    "    if filters:\n",
    "        side_effects_base_query += \" WHERE \"\n",
    "        side_effects_base_query += \" AND \".join(filters)\n",
    "    side_effects_base_query += \"\"\"\n",
    "    RETURN d.name AS drug, r.description AS side_effect, count(*) AS count\n",
    "    ORDER BY count DESC\n",
    "    LIMIT 10\n",
    "    \"\"\"\n",
    "    print(f\"Executing Cypher: {side_effects_base_query}\")\n",
    "    print(f\"Using parameters: {params}\")\n",
    "    data = graph.query(side_effects_base_query, params=params)\n",
    "\n",
    "    if not data:\n",
    "        # Return empty list if no data found\n",
    "        print(\"Debug: No side effects data found for query.\")\n",
    "        return []\n",
    "    return data"
   ]
  },
  {
   "cell_type": "code",
   "execution_count": 45,
   "id": "980e397b",
   "metadata": {},
   "outputs": [
    {
     "name": "stdout",
     "output_type": "stream",
     "text": [
      "Executing Cypher: \n",
      "    MATCH (c:Case)-[:HAS_REACTION]->(r:Reaction), (c)-[:IS_PRIMARY_SUSPECT]->(d:Drug)\n",
      "     WHERE d.name IN $drugs\n",
      "    RETURN d.name AS drug, r.description AS side_effect, count(*) AS count\n",
      "    ORDER BY count DESC\n",
      "    LIMIT 10\n",
      "    \n",
      "Using parameters: {'drugs': ['LYRICA', 'LYRICA CR']}\n"
     ]
    },
    {
     "data": {
      "text/plain": [
       "[{'drug': 'LYRICA', 'side_effect': 'Pain', 'count': 32},\n",
       " {'drug': 'LYRICA', 'side_effect': 'Fall', 'count': 21},\n",
       " {'drug': 'LYRICA',\n",
       "  'side_effect': 'Intentional product use issue',\n",
       "  'count': 20},\n",
       " {'drug': 'LYRICA', 'side_effect': 'Insomnia', 'count': 19},\n",
       " {'drug': 'LYRICA', 'side_effect': 'Feeling abnormal', 'count': 18},\n",
       " {'drug': 'LYRICA', 'side_effect': 'Drug ineffective', 'count': 18},\n",
       " {'drug': 'LYRICA', 'side_effect': 'Memory impairment', 'count': 17},\n",
       " {'drug': 'LYRICA', 'side_effect': 'Withdrawal syndrome', 'count': 17},\n",
       " {'drug': 'LYRICA', 'side_effect': 'Malaise', 'count': 16},\n",
       " {'drug': 'LYRICA', 'side_effect': 'Intentional product misuse', 'count': 15}]"
      ]
     },
     "execution_count": 45,
     "metadata": {},
     "output_type": "execute_result"
    }
   ],
   "source": [
    "get_side_effects(\"lyrica\")"
   ]
  },
  {
   "attachments": {
    "k.png": {
     "image/png": "[encoded data removed]"
    }
   },
   "cell_type": "markdown",
   "id": "b2c46ed5",
   "metadata": {},
   "source": [
    "Graph-based LLM Agent\n",
    "\n",
    "![k.png](attachment:k.png)\n",
    "\n",
    "The image depicts a user interacting with a Llama-3.1 agent to inquire about drug side effects. The agent accesses a side effects tool that retrieves information from a knowledge graph to provide the user with the relevant data."
   ]
  },
  {
   "cell_type": "code",
   "execution_count": 46,
   "id": "461f8236",
   "metadata": {},
   "outputs": [],
   "source": [
    "prompt = ChatPromptTemplate.from_messages(\n",
    "    [\n",
    "        (\n",
    "            \"system\",\n",
    "            \"You are a helpful assistant that finds information about common side effects. \"\n",
    "            \"If tools require follow up questions, \"\n",
    "            \"make sure to ask the user for clarification. Make sure to include any \"\n",
    "            \"available options that need to be clarified in the follow up questions \"\n",
    "            \"Do only the things the user specifically requested. \",\n",
    "        ),\n",
    "        MessagesPlaceholder(variable_name=\"chat_history\"),\n",
    "        (\"user\", \"{input}\"),\n",
    "        MessagesPlaceholder(variable_name=\"agent_scratchpad\"),\n",
    "    ]\n",
    ")\n",
    "\n",
    "def _format_chat_history(chat_history: List[Tuple[str, str]]):\n",
    "    buffer = []\n",
    "    for human, ai in chat_history:\n",
    "        buffer.append(HumanMessage(content=human))\n",
    "        buffer.append(AIMessage(content=ai))\n",
    "    return buffer"
   ]
  },
  {
   "cell_type": "code",
   "execution_count": 51,
   "id": "6ceef19c",
   "metadata": {},
   "outputs": [
    {
     "name": "stderr",
     "output_type": "stream",
     "text": [
      "c:\\Users\\Harshit\\AppData\\Local\\Programs\\Python\\Python312\\Lib\\site-packages\\pydantic\\json_schema.py:2324: PydanticJsonSchemaWarning: Default value default=PydanticUndefined description='disease mentioned in the question. Return None if no mentioned.' extra={} is not JSON serializable; excluding default from JSON schema [non-serializable-default]\n",
      "  warnings.warn(message, PydanticJsonSchemaWarning)\n",
      "c:\\Users\\Harshit\\AppData\\Local\\Programs\\Python\\Python312\\Lib\\site-packages\\pydantic\\json_schema.py:2324: PydanticJsonSchemaWarning: Default value default=PydanticUndefined description='Minimum age of the patient. Return None if no mentioned.' extra={} is not JSON serializable; excluding default from JSON schema [non-serializable-default]\n",
      "  warnings.warn(message, PydanticJsonSchemaWarning)\n",
      "c:\\Users\\Harshit\\AppData\\Local\\Programs\\Python\\Python312\\Lib\\site-packages\\pydantic\\json_schema.py:2324: PydanticJsonSchemaWarning: Default value default=PydanticUndefined description='Maximum age of the patient. Return None if no mentioned.' extra={} is not JSON serializable; excluding default from JSON schema [non-serializable-default]\n",
      "  warnings.warn(message, PydanticJsonSchemaWarning)\n",
      "c:\\Users\\Harshit\\AppData\\Local\\Programs\\Python\\Python312\\Lib\\site-packages\\pydantic\\json_schema.py:2324: PydanticJsonSchemaWarning: Default value default=PydanticUndefined description='manufacturer of the drug. Return None if no mentioned.' extra={} is not JSON serializable; excluding default from JSON schema [non-serializable-default]\n",
      "  warnings.warn(message, PydanticJsonSchemaWarning)\n"
     ]
    },
    {
     "name": "stdout",
     "output_type": "stream",
     "text": [
      "\n",
      "\n",
      "\u001b[1m> Entering new AgentExecutor chain...\u001b[0m\n",
      "\u001b[32;1m\u001b[1;3mCertainly, I can help you with drug information. \n",
      "\n",
      "What specifically would you like to know about this drug?\u001b[0m\n",
      "\n",
      "\u001b[1m> Finished chain.\u001b[0m\n",
      "Test response: {'input': 'Hello, can you help me with drug information?', 'output': 'Certainly, I can help you with drug information. \\n\\nWhat specifically would you like to know about this drug?'}\n"
     ]
    }
   ],
   "source": [
    "# Create a new cell to implement the proper tools binding and agent setup\n",
    "from langchain.pydantic_v1 import BaseModel, Field\n",
    "from typing import List, Optional, Tuple\n",
    "\n",
    "# Define proper input/output models for the agent\n",
    "class AgentInput(BaseModel):\n",
    "    input: str\n",
    "    chat_history: Optional[List[Tuple[str, str]]] = Field(default_factory=list)\n",
    "\n",
    "class Output(BaseModel):\n",
    "    output: str\n",
    "\n",
    "# First, let's create the llm_with_tools by properly binding the tools to the LLM\n",
    "tools = [get_side_effects]\n",
    "\n",
    "# Properly bind tools to the LLM\n",
    "llm_with_tools = llm.bind_tools(\n",
    "    tools=[format_tool_to_openai_function(t) for t in tools]\n",
    ")\n",
    "\n",
    "# Ensure we safely handle content for the LLM\n",
    "def safe_content(content):\n",
    "    \"\"\"Ensure content is never empty\"\"\"\n",
    "    if not content or not isinstance(content, str) or content.strip() == \"\":\n",
    "        return \"No content\"\n",
    "    return content\n",
    "\n",
    "def _format_chat_history(chat_history: List[Tuple[str, str]]):\n",
    "    buffer = []\n",
    "    for human, ai in chat_history:\n",
    "        buffer.append(HumanMessage(content=safe_content(human)))\n",
    "        buffer.append(AIMessage(content=safe_content(ai)))\n",
    "    return buffer\n",
    "\n",
    "def safe_messages(messages):\n",
    "    # Ensure every message has at least one character in content\n",
    "    for m in messages:\n",
    "        if hasattr(m, \"content\") and (not m.content or not isinstance(m.content, str) or m.content.strip() == \"\"):\n",
    "            m.content = \"No content\"\n",
    "    return messages\n",
    "\n",
    "agent = (\n",
    "    {\n",
    "        \"input\": lambda x: safe_content(x[\"input\"]),\n",
    "        \"chat_history\": lambda x: _format_chat_history(x.get(\"chat_history\", [])),\n",
    "        \"agent_scratchpad\": lambda x: safe_messages(\n",
    "            format_to_openai_function_messages(x.get(\"intermediate_steps\", []))\n",
    "        ),\n",
    "    }\n",
    "    | prompt\n",
    "    | llm_with_tools\n",
    "    | OpenAIToolsAgentOutputParser()\n",
    ")\n",
    "\n",
    "# Recreate the agent executor with proper verbose settings\n",
    "agent_executor = AgentExecutor(\n",
    "    agent=agent, \n",
    "    tools=tools, \n",
    "    verbose=True,\n",
    "    handle_parsing_errors=True  # Add error handling for parsing issues\n",
    ").with_types(\n",
    "    input_type=AgentInput,\n",
    "    output_type=Output\n",
    ")\n",
    "\n",
    "# Let's add a simple test to ensure everything is working before the full query\n",
    "test_response = agent_executor.invoke(\n",
    "    {\n",
    "        \"input\": \"Hello, can you help me with drug information?\"\n",
    "    }\n",
    ")\n",
    "print(\"Test response:\", test_response)"
   ]
  },
  {
   "cell_type": "markdown",
   "id": "bce66020",
   "metadata": {},
   "source": [
    "The prompt template includes the system message, optional chat history, and user input. The agent_scratchpad is reserved for the LLM, as it sometimes needs to perform multiple steps to answer the question, like executing and retrieving information from tools.\n",
    "\n",
    "The agent processes input through a series of transformations and handlers that format the chat history, apply the LLM with the bound tools, and parse the output. Finally, the agent is set up with an executor that manages the execution flow, specifies input and output types, and includes verbosity settings for detailed logging during execution."
   ]
  },
  {
   "cell_type": "code",
   "execution_count": 52,
   "id": "178253e6",
   "metadata": {},
   "outputs": [
    {
     "name": "stdout",
     "output_type": "stream",
     "text": [
      "\n",
      "\n",
      "\u001b[1m> Entering new AgentExecutor chain...\u001b[0m\n",
      "\u001b[32;1m\u001b[1;3m\n",
      "Invoking: `get_side_effects` with `{'drug': 'lyrica', 'max_age': 35, 'manufacturer': 'pfizer'}`\n",
      "\n",
      "\n",
      "\u001b[0m"
     ]
    },
    {
     "name": "stderr",
     "output_type": "stream",
     "text": [
      "c:\\Users\\Harshit\\AppData\\Local\\Programs\\Python\\Python312\\Lib\\site-packages\\pydantic\\main.py:463: UserWarning: Pydantic serializer warnings:\n",
      "  PydanticSerializationUnexpectedValue(Expected `int` - serialized value may not be as expected [input_value=FieldInfo(default=Pydanti...o mentioned.', extra={}), input_type=FieldInfo])\n",
      "  return self.__pydantic_serializer__.to_python(\n"
     ]
    },
    {
     "name": "stdout",
     "output_type": "stream",
     "text": [
      "Executing Cypher: \n",
      "    MATCH (c:Case)-[:HAS_REACTION]->(r:Reaction), (c)-[:IS_PRIMARY_SUSPECT]->(d:Drug)\n",
      "     WHERE d.name IN $drugs AND c.age < $max_age  AND EXISTS {(c)<-[:REGISTERED]-(m:Manufacturer) WHERE m.manufacturerName = $manufacturer}\n",
      "    RETURN d.name AS drug, r.description AS side_effect, count(*) AS count\n",
      "    ORDER BY count DESC\n",
      "    LIMIT 10\n",
      "    \n",
      "Using parameters: {'drugs': ['LYRICA', 'LYRICA CR'], 'max_age': 35, 'manufacturer': 'PFIZER'}\n",
      "\u001b[36;1m\u001b[1;3m[{'drug': 'LYRICA', 'side_effect': 'Sinusitis', 'count': 1}, {'drug': 'LYRICA', 'side_effect': 'Hypoacusis', 'count': 1}, {'drug': 'LYRICA', 'side_effect': 'Fall', 'count': 1}, {'drug': 'LYRICA', 'side_effect': 'Brain injury', 'count': 1}, {'drug': 'LYRICA', 'side_effect': 'Amnesia', 'count': 1}, {'drug': 'LYRICA', 'side_effect': 'Off label use', 'count': 1}, {'drug': 'LYRICA', 'side_effect': 'Impaired quality of life', 'count': 1}, {'drug': 'LYRICA', 'side_effect': 'Somnolence', 'count': 1}, {'drug': 'LYRICA', 'side_effect': 'Drug ineffective for unapproved indication', 'count': 1}]\u001b[0m\u001b[32;1m\u001b[1;3mThe most common side effects of Lyrica for people below 35 years old are sinusitis, hypoacusis, fall, brain injury, amnesia, off label use, impaired quality of life, somnolence, and drug ineffective for unapproved indication.\u001b[0m\n",
      "\n",
      "\u001b[1m> Finished chain.\u001b[0m\n"
     ]
    },
    {
     "data": {
      "text/plain": [
       "{'input': 'What are the most common side effects when using lyrica for people below 35 years old?',\n",
       " 'output': 'The most common side effects of Lyrica for people below 35 years old are sinusitis, hypoacusis, fall, brain injury, amnesia, off label use, impaired quality of life, somnolence, and drug ineffective for unapproved indication.'}"
      ]
     },
     "execution_count": 52,
     "metadata": {},
     "output_type": "execute_result"
    }
   ],
   "source": [
    "agent_executor.invoke(\n",
    "    {\n",
    "        \"input\": \"What are the most common side effects when using lyrica for people below 35 years old?\"\n",
    "    }\n",
    ")"
   ]
  },
  {
   "cell_type": "code",
   "execution_count": 53,
   "id": "42daaa1d",
   "metadata": {},
   "outputs": [
    {
     "name": "stdout",
     "output_type": "stream",
     "text": [
      "\n",
      "\n",
      "\u001b[1m> Entering new AgentExecutor chain...\u001b[0m\n",
      "\u001b[32;1m\u001b[1;3m\n",
      "Invoking: `get_side_effects` with `{'manufacturer': 'acadia'}`\n",
      "\n",
      "\n",
      "\u001b[0m"
     ]
    },
    {
     "name": "stderr",
     "output_type": "stream",
     "text": [
      "c:\\Users\\Harshit\\AppData\\Local\\Programs\\Python\\Python312\\Lib\\site-packages\\pydantic\\main.py:463: UserWarning: Pydantic serializer warnings:\n",
      "  PydanticSerializationUnexpectedValue(Expected `str` - serialized value may not be as expected [input_value=FieldInfo(default=Pydanti...o mentioned.', extra={}), input_type=FieldInfo])\n",
      "  PydanticSerializationUnexpectedValue(Expected `int` - serialized value may not be as expected [input_value=FieldInfo(default=Pydanti...o mentioned.', extra={}), input_type=FieldInfo])\n",
      "  PydanticSerializationUnexpectedValue(Expected `int` - serialized value may not be as expected [input_value=FieldInfo(default=Pydanti...o mentioned.', extra={}), input_type=FieldInfo])\n",
      "  return self.__pydantic_serializer__.to_python(\n"
     ]
    },
    {
     "name": "stdout",
     "output_type": "stream",
     "text": [
      "Executing Cypher: \n",
      "    MATCH (c:Case)-[:HAS_REACTION]->(r:Reaction), (c)-[:IS_PRIMARY_SUSPECT]->(d:Drug)\n",
      "     WHERE EXISTS {(c)<-[:REGISTERED]-(m:Manufacturer) WHERE m.manufacturerName = $manufacturer}\n",
      "    RETURN d.name AS drug, r.description AS side_effect, count(*) AS count\n",
      "    ORDER BY count DESC\n",
      "    LIMIT 10\n",
      "    \n",
      "Using parameters: {'manufacturer': 'ACADIA PHARMACEUTICALS'}\n",
      "\u001b[36;1m\u001b[1;3m[{'drug': 'NUPLAZID', 'side_effect': 'Hallucination', 'count': 13}, {'drug': 'NUPLAZID', 'side_effect': 'Confusional state', 'count': 7}, {'drug': 'NUPLAZID', 'side_effect': 'Fall', 'count': 6}, {'drug': 'NUPLAZID', 'side_effect': 'Delusion', 'count': 5}, {'drug': 'NUPLAZID', 'side_effect': 'Gait disturbance', 'count': 5}, {'drug': 'NUPLAZID', 'side_effect': 'Fatigue', 'count': 4}, {'drug': 'NUPLAZID', 'side_effect': 'Abnormal behaviour', 'count': 3}, {'drug': 'NUPLAZID', 'side_effect': 'Product dose omission issue', 'count': 3}, {'drug': 'NUPLAZID', 'side_effect': 'Agitation', 'count': 3}, {'drug': 'NUPLAZID', 'side_effect': 'Death', 'count': 3}]\u001b[0m\u001b[32;1m\u001b[1;3m\n",
      "Invoking: `get_side_effects` with `{'manufacturer': 'ACADIA'}`\n",
      "\n",
      "\n",
      "\u001b[0m"
     ]
    },
    {
     "name": "stderr",
     "output_type": "stream",
     "text": [
      "c:\\Users\\Harshit\\AppData\\Local\\Programs\\Python\\Python312\\Lib\\site-packages\\pydantic\\main.py:463: UserWarning: Pydantic serializer warnings:\n",
      "  PydanticSerializationUnexpectedValue(Expected `str` - serialized value may not be as expected [input_value=FieldInfo(default=Pydanti...o mentioned.', extra={}), input_type=FieldInfo])\n",
      "  PydanticSerializationUnexpectedValue(Expected `int` - serialized value may not be as expected [input_value=FieldInfo(default=Pydanti...o mentioned.', extra={}), input_type=FieldInfo])\n",
      "  PydanticSerializationUnexpectedValue(Expected `int` - serialized value may not be as expected [input_value=FieldInfo(default=Pydanti...o mentioned.', extra={}), input_type=FieldInfo])\n",
      "  return self.__pydantic_serializer__.to_python(\n"
     ]
    },
    {
     "name": "stdout",
     "output_type": "stream",
     "text": [
      "Executing Cypher: \n",
      "    MATCH (c:Case)-[:HAS_REACTION]->(r:Reaction), (c)-[:IS_PRIMARY_SUSPECT]->(d:Drug)\n",
      "     WHERE EXISTS {(c)<-[:REGISTERED]-(m:Manufacturer) WHERE m.manufacturerName = $manufacturer}\n",
      "    RETURN d.name AS drug, r.description AS side_effect, count(*) AS count\n",
      "    ORDER BY count DESC\n",
      "    LIMIT 10\n",
      "    \n",
      "Using parameters: {'manufacturer': 'ACADIA PHARMACEUTICALS'}\n",
      "\u001b[36;1m\u001b[1;3m[{'drug': 'NUPLAZID', 'side_effect': 'Hallucination', 'count': 13}, {'drug': 'NUPLAZID', 'side_effect': 'Confusional state', 'count': 7}, {'drug': 'NUPLAZID', 'side_effect': 'Fall', 'count': 6}, {'drug': 'NUPLAZID', 'side_effect': 'Delusion', 'count': 5}, {'drug': 'NUPLAZID', 'side_effect': 'Gait disturbance', 'count': 5}, {'drug': 'NUPLAZID', 'side_effect': 'Fatigue', 'count': 4}, {'drug': 'NUPLAZID', 'side_effect': 'Abnormal behaviour', 'count': 3}, {'drug': 'NUPLAZID', 'side_effect': 'Product dose omission issue', 'count': 3}, {'drug': 'NUPLAZID', 'side_effect': 'Agitation', 'count': 3}, {'drug': 'NUPLAZID', 'side_effect': 'Death', 'count': 3}]\u001b[0m\u001b[32;1m\u001b[1;3mBased on the information provided, the most common side effects for drugs manufactured by Acadia are:\n",
      "\n",
      "* Hallucination\n",
      "* Confusional state\n",
      "* Fall\n",
      "* Delusion\n",
      "* Gait disturbance\n",
      "* Fatigue\n",
      "* Abnormal behaviour\n",
      "* Product dose omission issue\n",
      "* Agitation\n",
      "* Death\n",
      "\n",
      "Please note that this list only includes side effects for the drug NUPLAZID, as that is the only drug mentioned in the provided information. If you would like to know the side effects for other drugs manufactured by Acadia, please let me know and I can try to find that information for you.\u001b[0m\n",
      "\n",
      "\u001b[1m> Finished chain.\u001b[0m\n"
     ]
    },
    {
     "data": {
      "text/plain": [
       "{'input': 'What are the most common side effects when for drugs manufactured by acadia?',\n",
       " 'output': 'Based on the information provided, the most common side effects for drugs manufactured by Acadia are:\\n\\n* Hallucination\\n* Confusional state\\n* Fall\\n* Delusion\\n* Gait disturbance\\n* Fatigue\\n* Abnormal behaviour\\n* Product dose omission issue\\n* Agitation\\n* Death\\n\\nPlease note that this list only includes side effects for the drug NUPLAZID, as that is the only drug mentioned in the provided information. If you would like to know the side effects for other drugs manufactured by Acadia, please let me know and I can try to find that information for you.'}"
      ]
     },
     "execution_count": 53,
     "metadata": {},
     "output_type": "execute_result"
    }
   ],
   "source": [
    "agent_executor.invoke(\n",
    "    {\n",
    "        \"input\": \"What are the most common side effects when for drugs manufactured by acadia?\"\n",
    "    }\n",
    ")"
   ]
  },
  {
   "cell_type": "markdown",
   "id": "c05a1706",
   "metadata": {},
   "source": [
    "The LLM identified it needs to use the get_side_effects function with appropriate arguments. The function then dynamically generates a Cypher statement, fetches the relevant information, and returns it to the LLM to generate the final answer.\n",
    "\n",
    "### Summary\n",
    "Function calling capabilities are a powerful addition to open-source models like Llama 3.1, enabling more structured and controlled interactions with external data sources and tools. Beyond just querying unstructured documents, graph-based agents offer exciting possibilities for interacting with knowledge graphs and structured data. The ease of hosting these models using platforms like NVIDIA NIM microservices makes them increasingly accessible."
   ]
  }
 ],
 "metadata": {
  "kernelspec": {
   "display_name": "Python 3",
   "language": "python",
   "name": "python3"
  },
  "language_info": {
   "codemirror_mode": {
    "name": "ipython",
    "version": 3
   },
   "file_extension": ".py",
   "mimetype": "text/x-python",
   "name": "python",
   "nbconvert_exporter": "python",
   "pygments_lexer": "ipython3",
   "version": "3.12.4"
  }
 },
 "nbformat": 4,
 "nbformat_minor": 5
}
